{
 "cells": [
  {
   "cell_type": "code",
   "execution_count": 3,
   "metadata": {},
   "outputs": [
    {
     "name": "stdout",
     "output_type": "stream",
     "text": [
      "Nevermore!\n"
     ]
    }
   ],
   "source": [
    "# Task 1\n",
    "RAVEN = \"quoth\"\n",
    "RAVEN = \"Nevermore!\"\n",
    "print RAVEN"
   ]
  },
  {
   "cell_type": "code",
   "execution_count": 5,
   "metadata": {},
   "outputs": [
    {
     "name": "stdout",
     "output_type": "stream",
     "text": [
      "52\n"
     ]
    }
   ],
   "source": [
    "# Task 2\n",
    "WEEKS = (19%10 + 100 + 2**8) / 7\n",
    "print WEEKS"
   ]
  },
  {
   "cell_type": "code",
   "execution_count": 24,
   "metadata": {},
   "outputs": [
    {
     "name": "stdout",
     "output_type": "stream",
     "text": [
      "Danger Will Robinson!\n",
      "Danger \n"
     ]
    }
   ],
   "source": [
    "# Task 3\n",
    "WILL_ROBINSON = \"Danger Will Robinson!\"\n",
    "KLAXON = WILL_ROBINSON[slice(7)]\n",
    "print WILL_ROBINSON\n",
    "print KLAXON"
   ]
  },
  {
   "cell_type": "code",
   "execution_count": 25,
   "metadata": {},
   "outputs": [
    {
     "name": "stdout",
     "output_type": "stream",
     "text": [
      "Danger Danger Danger Danger Danger \n"
     ]
    }
   ],
   "source": [
    "# Task 4\n",
    "KLAXON = KLAXON*5\n",
    "print KLAXON"
   ]
  },
  {
   "cell_type": "code",
   "execution_count": 26,
   "metadata": {},
   "outputs": [
    {
     "name": "stdout",
     "output_type": "stream",
     "text": [
      "['Michaelangelo', 'Lenoardo', 'Rafael', 'Donatello', 'Heroes in a half shell.']\n"
     ]
    }
   ],
   "source": [
    "# Task 5\n",
    "TEENAGE_MUTANT_NINJAS = ('Michaelangelo. Lenoardo. Rafael. Donatello. Heroes '\n",
    "                        'in a half shell.')\n",
    "TURTLE_POWER = TEENAGE_MUTANT_NINJAS.split('. ')\n",
    "print TURTLE_POWER"
   ]
  },
  {
   "cell_type": "code",
   "execution_count": 34,
   "metadata": {},
   "outputs": [
    {
     "name": "stdout",
     "output_type": "stream",
     "text": [
      "A long-tailed cat in a room full of rockin' chairs.\n"
     ]
    }
   ],
   "source": [
    "# Task 6\n",
    "NERVOUS_AS = \"\"\"\n",
    "//////////A long-tailed cat in a room full of rockin' chairs.,,,,,,,,,, \"\"\".strip( ).rstrip(\",\").lstrip('/')\n",
    "print NERVOUS_AS"
   ]
  },
  {
   "cell_type": "code",
   "execution_count": 35,
   "metadata": {},
   "outputs": [
    {
     "name": "stdout",
     "output_type": "stream",
     "text": [
      "Dr. Strangelove Or: How I Learned To Stop Worrying And Love The Bomb\n"
     ]
    }
   ],
   "source": [
    "# Task 7\n",
    "MOVIE = 'dr. strangelove or: how i learned to stop worrying and love the bomb'\n",
    "ENTITLED = MOVIE.title()\n",
    "print ENTITLED"
   ]
  },
  {
   "cell_type": "code",
   "execution_count": 37,
   "metadata": {},
   "outputs": [
    {
     "name": "stdout",
     "output_type": "stream",
     "text": [
      "True\n",
      "False\n",
      "None\n"
     ]
    },
    {
     "data": {
      "text/plain": [
       "True"
      ]
     },
     "execution_count": 37,
     "metadata": {},
     "output_type": "execute_result"
    }
   ],
   "source": [
    "# Task 8\n",
    "IS_TRUE = True\n",
    "IS_FALSE = False\n",
    "IS_NONE = None\n",
    "INTEGER_EQUIV = IS_TRUE == 1 and IS_FALSE == 0\n",
    "print IS_TRUE\n",
    "print IS_FALSE\n",
    "print IS_NONE\n",
    "INTEGER_EQUIV\n"
   ]
  },
  {
   "cell_type": "code",
   "execution_count": null,
   "metadata": {},
   "outputs": [],
   "source": []
  }
 ],
 "metadata": {
  "kernelspec": {
   "display_name": "Python 2",
   "language": "python",
   "name": "python2"
  },
  "language_info": {
   "codemirror_mode": {
    "name": "ipython",
    "version": 2
   },
   "file_extension": ".py",
   "mimetype": "text/x-python",
   "name": "python",
   "nbconvert_exporter": "python",
   "pygments_lexer": "ipython2",
   "version": "2.7.15"
  }
 },
 "nbformat": 4,
 "nbformat_minor": 2
}
